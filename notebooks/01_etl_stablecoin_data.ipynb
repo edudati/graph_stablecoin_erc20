{
 "cells": [
  {
   "cell_type": "markdown",
   "id": "95e6757d",
   "metadata": {},
   "source": [
    "### Important:\n",
    "The data used in this exercise has already been cleaned. However, I included this notebook with a basic data cleaning step, as the process may vary depending on the context. For example, if the token is a stablecoin, it might be necessary to remove very small or very large values. Zero-value transactions could be relevant for identifying network activity, or they might indicate failed transactions or contract issues. Repeated values in short time spans may suggest arbitrage or testing behaviour. Therefore, the cleaning strategy should be adapted to the analysis goal."
   ]
  },
  {
   "cell_type": "code",
   "execution_count": 5,
   "id": "a6e5625b",
   "metadata": {},
   "outputs": [
    {
     "name": "stdout",
     "output_type": "stream",
     "text": [
      "<class 'pandas.core.frame.DataFrame'>\n",
      "RangeIndex: 5280131 entries, 0 to 5280130\n",
      "Data columns (total 7 columns):\n",
      " #   Column             Dtype  \n",
      "---  ------             -----  \n",
      " 0   block_number       int64  \n",
      " 1   transaction_index  int64  \n",
      " 2   from_address       object \n",
      " 3   to_address         object \n",
      " 4   time_stamp         int64  \n",
      " 5   contract_address   object \n",
      " 6   value              float64\n",
      "dtypes: float64(1), int64(3), object(3)\n",
      "memory usage: 282.0+ MB\n"
     ]
    },
    {
     "data": {
      "application/vnd.microsoft.datawrangler.viewer.v0+json": {
       "columns": [
        {
         "name": "index",
         "rawType": "int64",
         "type": "integer"
        },
        {
         "name": "block_number",
         "rawType": "int64",
         "type": "integer"
        },
        {
         "name": "transaction_index",
         "rawType": "int64",
         "type": "integer"
        },
        {
         "name": "from_address",
         "rawType": "object",
         "type": "string"
        },
        {
         "name": "to_address",
         "rawType": "object",
         "type": "string"
        },
        {
         "name": "time_stamp",
         "rawType": "int64",
         "type": "integer"
        },
        {
         "name": "contract_address",
         "rawType": "object",
         "type": "string"
        },
        {
         "name": "value",
         "rawType": "float64",
         "type": "float"
        }
       ],
       "ref": "6cbcc1ec-3bf4-41f1-b424-e58d555ce9ff",
       "rows": [
        [
         "0",
         "14669683",
         "7",
         "0xd30b438df65f4f788563b2b3611bd6059bff4ad9",
         "0xda816e2122a8a39b0926bfa84edd3d42477e9efd",
         "1651105815",
         "0xdac17f958d2ee523a2206206994597c13d831ec7",
         "18.67"
        ],
        [
         "1",
         "14669683",
         "45",
         "0x4941834ed1428089ee76252f6f9d767e800499b0",
         "0x28c6c06298d514db089934071355e5743bf21d60",
         "1651105815",
         "0xdac17f958d2ee523a2206206994597c13d831ec7",
         "10000.0"
        ],
        [
         "2",
         "14669683",
         "46",
         "0x2c1f9a20711e14f8484a41123e20d1b06858ebea",
         "0x28c6c06298d514db089934071355e5743bf21d60",
         "1651105815",
         "0xdac17f958d2ee523a2206206994597c13d831ec7",
         "9942.313005"
        ],
        [
         "3",
         "14669683",
         "47",
         "0x7784c4f53aa5f03bd6d3ca670c9d9c887cc38cb0",
         "0x3cd751e6b0078be393132286c442345e5dc49699",
         "1651105815",
         "0xdac17f958d2ee523a2206206994597c13d831ec7",
         "234.364097"
        ],
        [
         "4",
         "14669683",
         "48",
         "0x66589b8278470d58d4112f3d065de0f75734312e",
         "0x28c6c06298d514db089934071355e5743bf21d60",
         "1651105815",
         "0xdac17f958d2ee523a2206206994597c13d831ec7",
         "9800.0"
        ]
       ],
       "shape": {
        "columns": 7,
        "rows": 5
       }
      },
      "text/html": [
       "<div>\n",
       "<style scoped>\n",
       "    .dataframe tbody tr th:only-of-type {\n",
       "        vertical-align: middle;\n",
       "    }\n",
       "\n",
       "    .dataframe tbody tr th {\n",
       "        vertical-align: top;\n",
       "    }\n",
       "\n",
       "    .dataframe thead th {\n",
       "        text-align: right;\n",
       "    }\n",
       "</style>\n",
       "<table border=\"1\" class=\"dataframe\">\n",
       "  <thead>\n",
       "    <tr style=\"text-align: right;\">\n",
       "      <th></th>\n",
       "      <th>block_number</th>\n",
       "      <th>transaction_index</th>\n",
       "      <th>from_address</th>\n",
       "      <th>to_address</th>\n",
       "      <th>time_stamp</th>\n",
       "      <th>contract_address</th>\n",
       "      <th>value</th>\n",
       "    </tr>\n",
       "  </thead>\n",
       "  <tbody>\n",
       "    <tr>\n",
       "      <th>0</th>\n",
       "      <td>14669683</td>\n",
       "      <td>7</td>\n",
       "      <td>0xd30b438df65f4f788563b2b3611bd6059bff4ad9</td>\n",
       "      <td>0xda816e2122a8a39b0926bfa84edd3d42477e9efd</td>\n",
       "      <td>1651105815</td>\n",
       "      <td>0xdac17f958d2ee523a2206206994597c13d831ec7</td>\n",
       "      <td>18.670000</td>\n",
       "    </tr>\n",
       "    <tr>\n",
       "      <th>1</th>\n",
       "      <td>14669683</td>\n",
       "      <td>45</td>\n",
       "      <td>0x4941834ed1428089ee76252f6f9d767e800499b0</td>\n",
       "      <td>0x28c6c06298d514db089934071355e5743bf21d60</td>\n",
       "      <td>1651105815</td>\n",
       "      <td>0xdac17f958d2ee523a2206206994597c13d831ec7</td>\n",
       "      <td>10000.000000</td>\n",
       "    </tr>\n",
       "    <tr>\n",
       "      <th>2</th>\n",
       "      <td>14669683</td>\n",
       "      <td>46</td>\n",
       "      <td>0x2c1f9a20711e14f8484a41123e20d1b06858ebea</td>\n",
       "      <td>0x28c6c06298d514db089934071355e5743bf21d60</td>\n",
       "      <td>1651105815</td>\n",
       "      <td>0xdac17f958d2ee523a2206206994597c13d831ec7</td>\n",
       "      <td>9942.313005</td>\n",
       "    </tr>\n",
       "    <tr>\n",
       "      <th>3</th>\n",
       "      <td>14669683</td>\n",
       "      <td>47</td>\n",
       "      <td>0x7784c4f53aa5f03bd6d3ca670c9d9c887cc38cb0</td>\n",
       "      <td>0x3cd751e6b0078be393132286c442345e5dc49699</td>\n",
       "      <td>1651105815</td>\n",
       "      <td>0xdac17f958d2ee523a2206206994597c13d831ec7</td>\n",
       "      <td>234.364097</td>\n",
       "    </tr>\n",
       "    <tr>\n",
       "      <th>4</th>\n",
       "      <td>14669683</td>\n",
       "      <td>48</td>\n",
       "      <td>0x66589b8278470d58d4112f3d065de0f75734312e</td>\n",
       "      <td>0x28c6c06298d514db089934071355e5743bf21d60</td>\n",
       "      <td>1651105815</td>\n",
       "      <td>0xdac17f958d2ee523a2206206994597c13d831ec7</td>\n",
       "      <td>9800.000000</td>\n",
       "    </tr>\n",
       "  </tbody>\n",
       "</table>\n",
       "</div>"
      ],
      "text/plain": [
       "   block_number  transaction_index  \\\n",
       "0      14669683                  7   \n",
       "1      14669683                 45   \n",
       "2      14669683                 46   \n",
       "3      14669683                 47   \n",
       "4      14669683                 48   \n",
       "\n",
       "                                 from_address  \\\n",
       "0  0xd30b438df65f4f788563b2b3611bd6059bff4ad9   \n",
       "1  0x4941834ed1428089ee76252f6f9d767e800499b0   \n",
       "2  0x2c1f9a20711e14f8484a41123e20d1b06858ebea   \n",
       "3  0x7784c4f53aa5f03bd6d3ca670c9d9c887cc38cb0   \n",
       "4  0x66589b8278470d58d4112f3d065de0f75734312e   \n",
       "\n",
       "                                   to_address  time_stamp  \\\n",
       "0  0xda816e2122a8a39b0926bfa84edd3d42477e9efd  1651105815   \n",
       "1  0x28c6c06298d514db089934071355e5743bf21d60  1651105815   \n",
       "2  0x28c6c06298d514db089934071355e5743bf21d60  1651105815   \n",
       "3  0x3cd751e6b0078be393132286c442345e5dc49699  1651105815   \n",
       "4  0x28c6c06298d514db089934071355e5743bf21d60  1651105815   \n",
       "\n",
       "                             contract_address         value  \n",
       "0  0xdac17f958d2ee523a2206206994597c13d831ec7     18.670000  \n",
       "1  0xdac17f958d2ee523a2206206994597c13d831ec7  10000.000000  \n",
       "2  0xdac17f958d2ee523a2206206994597c13d831ec7   9942.313005  \n",
       "3  0xdac17f958d2ee523a2206206994597c13d831ec7    234.364097  \n",
       "4  0xdac17f958d2ee523a2206206994597c13d831ec7   9800.000000  "
      ]
     },
     "execution_count": 5,
     "metadata": {},
     "output_type": "execute_result"
    }
   ],
   "source": [
    "import pandas as pd\n",
    "import numpy as np\n",
    "import os\n",
    "\n",
    "df = pd.read_csv('../data/token_transfers.csv')\n",
    "\n",
    "output_file = '../data/cleaned/token_transfers_cleaned.csv'\n",
    "os.makedirs(os.path.dirname(output_file), exist_ok=True)\n",
    "\n",
    "df.info()\n",
    "df.head()"
   ]
  },
  {
   "cell_type": "code",
   "execution_count": null,
   "id": "800b0b5a",
   "metadata": {},
   "outputs": [],
   "source": [
    "import re\n",
    "\n",
    "df_excluded = pd.DataFrame()\n",
    "\n",
    "# standardizations (valid with etherium)\n",
    "df['from_address'] = df['from_address'].str.lower()\n",
    "df['to_address'] = df['to_address'].str.lower()\n",
    "df['contract_address'] = df['contract_address'].str.lower()\n",
    "\n",
    "# Basic function to validate ethereum address\n",
    "def is_valid_eth_address(addr):\n",
    "    return isinstance(addr, str) and re.fullmatch(r\"0x[a-f0-9]{40}\", addr) is not None\n",
    "\n",
    "# Remove lines with missing data in essential columns\n",
    "essential_cols = ['block_number', 'transaction_index', 'from_address', 'to_address', 'time_stamp', 'contract_address', 'value']\n",
    "missing_rows = df[df[essential_cols].isnull().any(axis=1)]\n",
    "df_excluded = pd.concat([df_excluded, missing_rows])\n",
    "df = df.drop(missing_rows.index.tolist())\n",
    "\n",
    "# Remove trasactions with value < 0\n",
    "zero_value_rows = df[df['value'] < 0.0]\n",
    "df_excluded = pd.concat([df_excluded, zero_value_rows])\n",
    "df = df.drop(zero_value_rows.index.tolist())\n",
    "\n",
    "# Remove invalid address\n",
    "invalid_from = df[~df['from_address'].apply(is_valid_eth_address)]\n",
    "invalid_to = df[~df['to_address'].apply(is_valid_eth_address)]\n",
    "invalid_contract = df[~df['contract_address'].apply(is_valid_eth_address)]\n",
    "invalid_rows = pd.concat([invalid_from, invalid_to, invalid_contract]).drop_duplicates()\n",
    "df_excluded = pd.concat([df_excluded, invalid_rows])\n",
    "df = df.drop(invalid_rows.index.tolist())\n",
    "\n",
    "# Convert timestamp to datetime\n",
    "df['time_stamp'] = pd.to_datetime(df['time_stamp'], unit='s')\n",
    "df['date'] = df['time_stamp'].dt.date\n",
    "\n",
    "# Summary\n",
    "print(f\"Total original: {len(df) + len(df_excluded)}\")\n",
    "print(f\"Valids: {len(df)}\")\n",
    "print(f\"Excludeds: {len(df_excluded)}\")\n",
    "print(f\"Tax of validation: {(len(df) / (len(df) + len(df_excluded)) * 100):.2f}%\")\n",
    "df_excluded.head()"
   ]
  },
  {
   "cell_type": "code",
   "execution_count": null,
   "id": "29c1f575",
   "metadata": {},
   "outputs": [],
   "source": [
    "# Basic descriptive statistics\n",
    "print(\"Descriptive:\")\n",
    "print(df['value'].describe())\n",
    "print(f\"\\nPerccentiles: {df['value'].quantile([0.001, 0.01, 0.05, 0.95, 0.99, 0.999])}\")\n",
    "\n",
    "# Identify imposible values\n",
    "test_values = df[df['value'] >= 1e15]\n",
    "print(f\"\\nExtreme values (>= 1e15): {len(test_values)}\")\n",
    "\n",
    "# Analisys per contract\n",
    "print(\"\\nAnalisys per contract:\")\n",
    "for contract in df['contract_address'].value_counts().head(5).index:\n",
    "    contract_data = df[df['contract_address'] == contract]\n",
    "    print(f\"{str(contract)[:10]}...: min={contract_data['value'].min():.4f}, max={contract_data['value'].max():.4f}\")\n",
    "\n",
    "# Remove outliers\n",
    "q_high = df['value'].quantile(0.9999) # 99.99%\n",
    "q_low = df['value'].quantile(0.0001) # 0.01%\n",
    "\n",
    "outlier_high = df[df['value'] > q_high]\n",
    "outlier_low = df[df['value'] < q_low]\n",
    "\n",
    "print(f\"\\nHighest outliers (> {q_high:.2f}): {len(outlier_high)}\")\n",
    "print(f\"Lowest outliers (< {q_low:.2f}): {len(outlier_low)}\")\n",
    "\n",
    "# Remove and update tracking\n",
    "df_excluded = pd.concat([df_excluded, outlier_high, outlier_low])\n",
    "df = df[(df['value'] >= q_low) & (df['value'] <= q_high)]\n",
    "\n",
    "print(f\"\\nAfter outliers removal: {len(df)} valid transactions\")"
   ]
  },
  {
   "cell_type": "markdown",
   "id": "647fb913",
   "metadata": {},
   "source": [
    "Direct links for mapping\n",
    "\n",
    "\n",
    "USDT (Tether): https://coinmarketcap.com/currencies/tether/\n",
    "\n",
    "USDC (USD Coin): https://coinmarketcap.com/currencies/usd-coin/\n",
    "\n",
    "DAI: https://coinmarketcap.com/currencies/multi-collateral-dai/\n",
    "\n",
    "UST (TerraClassicUSD): https://coinmarketcap.com/currencies/terrausd/\n",
    "\n",
    "PAX (Pax Dollar): https://coinmarketcap.com/currencies/paxos-standard/\n",
    "\n",
    "WLUNA (Wrapped LUNA Classic): https://coinmarketcap.com/currencies/wrapped-terra/"
   ]
  },
  {
   "cell_type": "code",
   "execution_count": null,
   "id": "70bd1643",
   "metadata": {},
   "outputs": [],
   "source": [
    "# Map contract address to token names\n",
    "contract_to_token = {\n",
    "    '0xdac17f958d2ee523a2206206994597c13d831ec7': 'USDT',\n",
    "    '0xa0b86991c6218b36c1d19d4a2e9eb0ce3606eb48': 'USDC',\n",
    "    '0x6b175474e89094c44da98b954eedeac495271d0f': 'DAI',\n",
    "    '0xa47c8bf37f92abed4a126bda807a7b7498661acd': 'UST',\n",
    "    '0x8e870d67f660d95d5be530380d0ec0bd388289e1': 'PAX',\n",
    "    '0xd2877702675e6ceb975b4a1dffd6ea4a5f3e6797': 'WLUNA'\n",
    "}\n",
    "\n",
    "df['token'] = df['contract_address'].map(contract_to_token)\n",
    "df = df[~df['token'].isnull()]\n",
    "\n",
    "df.to_csv(output_file)\n"
   ]
  }
 ],
 "metadata": {
  "kernelspec": {
   "display_name": ".venv",
   "language": "python",
   "name": "python3"
  },
  "language_info": {
   "codemirror_mode": {
    "name": "ipython",
    "version": 3
   },
   "file_extension": ".py",
   "mimetype": "text/x-python",
   "name": "python",
   "nbconvert_exporter": "python",
   "pygments_lexer": "ipython3",
   "version": "3.10.9"
  }
 },
 "nbformat": 4,
 "nbformat_minor": 5
}
